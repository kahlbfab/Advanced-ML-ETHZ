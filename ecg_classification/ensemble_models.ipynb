{
 "cells": [
  {
   "cell_type": "code",
   "execution_count": null,
   "id": "3d36480d-13a0-416c-bb83-030738189342",
   "metadata": {},
   "outputs": [],
   "source": [
    "import pandas as pd\n",
    "import numpy as np\n",
    "from scipy.stats import uniform, loguniform\n",
    "import matplotlib.pyplot as plt\n",
    "import json\n",
    "\n",
    "from sklearn.ensemble import StackingClassifier, VotingClassifier, RandomForestClassifier, ExtraTreesClassifier\n",
    "from sklearn.pipeline import make_pipeline, Pipeline\n",
    "from sklearn.impute import SimpleImputer\n",
    "from sklearn.model_selection import GridSearchCV, RandomizedSearchCV, train_test_split, cross_val_score\n",
    "from sklearn.preprocessing import StandardScaler, MinMaxScaler\n",
    "from sklearn.metrics import confusion_matrix, ConfusionMatrixDisplay, classification_report\n",
    "from sklearn.feature_selection import SelectKBest, chi2\n",
    "from sklearn.gaussian_process.kernels import ConstantKernel, RBF, RationalQuadratic\n",
    "from sklearn.svm import SVC, LinearSVC\n",
    "\n",
    "from sklearn.svm import LinearSVC\n",
    "from sklearn.linear_model import LogisticRegression\n",
    "import lightgbm as lgbm\n",
    "from catboost import CatBoostClassifier\n",
    "from sklearn.gaussian_process import GaussianProcessClassifier\n",
    "from xgboost import XGBClassifier"
   ]
  },
  {
   "cell_type": "code",
   "execution_count": 3,
   "id": "128a932f-58c1-47e2-8a9c-771ea1e47dd3",
   "metadata": {},
   "outputs": [],
   "source": [
    "y_train_raw = pd.read_csv('data/y_train.csv', index_col='id')\n",
    "X_train_raw = pd.read_csv('data/X_train_mega.csv').iloc[:,1:]\n",
    "X_test_raw = pd.read_csv('data/X_test_mega.csv').iloc[:,1:]\n",
    "y_train = y_train_raw"
   ]
  },
  {
   "cell_type": "code",
   "execution_count": 4,
   "id": "4814749a-6dcb-49f6-a033-054aaf9b8822",
   "metadata": {},
   "outputs": [],
   "source": [
    "with open('feature_groups.json') as f:\n",
    "    feature_groups = json.load(f)\n",
    "\n",
    "X_train = X_train_raw[\n",
    "    feature_groups['wavelets'],\n",
    "    feature_groups['hos_and_sign'],\n",
    "    feature_groups['robust_peaks'],\n",
    "    feature_groups['intervals'],\n",
    "    feature_groups['PQST_hrv'],\n",
    "    feature_groups['R_features']\n",
    "]\n",
    "\n",
    "X_test = X_test_raw[\n",
    "    feature_groups['wavelets'],\n",
    "    feature_groups['hos_and_sign'],\n",
    "    feature_groups['robust_peaks'],\n",
    "    feature_groups['intervals'],\n",
    "    feature_groups['PQST_hrv'],\n",
    "    feature_groups['R_features']\n",
    "]"
   ]
  },
  {
   "cell_type": "code",
   "execution_count": null,
   "id": "b300d83c-4025-4006-9a64-1f62b026315b",
   "metadata": {},
   "outputs": [],
   "source": [
    "# remove all-NaN features ----------------------------------------\n",
    "X_train.dropna(axis=1, how='all', inplace=True)\n",
    "X_test.dropna(axis=1, how='all', inplace=True)"
   ]
  },
  {
   "cell_type": "code",
   "execution_count": 7,
   "id": "45ca3b7d-b507-43cd-b262-209ca8610f88",
   "metadata": {},
   "outputs": [],
   "source": [
    "# GBDT ----------------------------------------------------\n",
    "params = {\n",
    "     'boosting_type': 'gbdt'\n",
    "    ,'max_depth': 17\n",
    "    ,'num_leaves': 1827\n",
    "\n",
    "    ,'n_estimators': 817\n",
    "    ,'learning_rate': 0.056804\n",
    "\n",
    "    ,'reg_lambda': 0.799360\n",
    "    ,'subsample': 0.794530\n",
    "}\n",
    "\n",
    "lgbm_classifier = lgbm.LGBMClassifier(\n",
    "    **params,\n",
    "    class_weight = {\n",
    "                0: 1.688779,\n",
    "                2: 3.471506,\n",
    "                1: 11.550790,\n",
    "                3: 30.100000\n",
    "            },\n",
    "    objective = 'multiclass',\n",
    "    num_class = 4,\n",
    "    max_bin = 100,\n",
    "    subsample_freq = 1, \n",
    "    verbose = -1\n",
    ")"
   ]
  },
  {
   "cell_type": "code",
   "execution_count": 8,
   "id": "8ee0f094-c0bd-4fb8-bd68-71540f744488",
   "metadata": {},
   "outputs": [],
   "source": [
    "# DART --------------------------------------------------\n",
    "params = {\n",
    "     'boosting_type': 'dart'\n",
    "    ,'max_depth': 25\n",
    "    ,'num_leaves': 8150\n",
    "\n",
    "    ,'n_estimators': 522\n",
    "    ,'learning_rate': 0.293195\n",
    "\n",
    "    ,'reg_lambda': 0.070163\n",
    "    ,'subsample': 0.842788\n",
    "}\n",
    "\n",
    "dart_classifier = lgbm.LGBMClassifier(\n",
    "    **params,\n",
    "    class_weight = {\n",
    "                0: 1.688779,\n",
    "                2: 3.471506,\n",
    "                1: 11.550790,\n",
    "                3: 30.100000\n",
    "            },\n",
    "    objective = 'multiclass',\n",
    "    num_class = 4,\n",
    "    max_bin = 100,\n",
    "    subsample_freq = 1, \n",
    "    verbose = -1\n",
    ")"
   ]
  },
  {
   "cell_type": "code",
   "execution_count": 9,
   "id": "a12e8c65-f4f0-4109-a230-2f561e17d133",
   "metadata": {},
   "outputs": [],
   "source": [
    "# XGBoost --------------------------------------------------\n",
    "from sklearn.utils import compute_sample_weight\n",
    "\n",
    "def convert_params(params: pd.Series): # Takes a pandas series\n",
    "    for key, val in params.items():\n",
    "        params[key] = '{0:g}'.format(float(val))\n",
    "    return params\n",
    "\n",
    "params = pd.read_csv(\"data/xg_opt_params.csv\")\n",
    "weights = compute_sample_weight(\"balanced\", y_train)\n",
    "xgb_classifier = XGBClassifier(n_estimators=200,\n",
    "                         sample_weight=weights,\n",
    "                         **convert_params(params.iloc[0, 1:]))"
   ]
  },
  {
   "cell_type": "code",
   "execution_count": 10,
   "id": "235ad58e-ffe8-40f0-b9f0-109bae75a31a",
   "metadata": {},
   "outputs": [],
   "source": [
    "# CatBoost -------------------------------------------------\n",
    "catb_classifier = CatBoostClassifier()"
   ]
  },
  {
   "cell_type": "code",
   "execution_count": 11,
   "id": "c136ae2a-e381-496c-929e-6149c800b990",
   "metadata": {
    "tags": []
   },
   "outputs": [],
   "source": [
    "# Ensemble -------------------------------------------------\n",
    "estimators = [\n",
    "    ('dart', dart_classifier),\n",
    "    ('lgbm', lgbm_classifier),\n",
    "    ('xgb', xgb_classifier),\n",
    "    ('cat_boost', catb_classifier)\n",
    "]"
   ]
  },
  {
   "cell_type": "code",
   "execution_count": null,
   "id": "ddbb85c6-dde8-4e2f-b6e7-239d7e8ce90d",
   "metadata": {
    "tags": []
   },
   "outputs": [],
   "source": [
    "clf = VotingClassifier(estimators=estimators, voting='soft')\n",
    "clf.fit(X_train, y_train['y'])"
   ]
  },
  {
   "cell_type": "code",
   "execution_count": 13,
   "id": "96a78ca1-d12d-41ad-a08f-a49993c69e02",
   "metadata": {},
   "outputs": [],
   "source": [
    "y_pred = clf.predict(X_test)\n",
    "y_pred = pd.DataFrame(y_pred)\n",
    "y_pred = pd.DataFrame({\n",
    "    \"id\": y_pred.index,\n",
    "    \"y\": y_pred[0]\n",
    "})\n",
    "y_pred.to_csv(\"data/submission_tuned_ensemble.csv\", index=False)"
   ]
  }
 ],
 "metadata": {
  "kernelspec": {
   "display_name": "Python 3 (ipykernel)",
   "language": "python",
   "name": "python3"
  },
  "language_info": {
   "codemirror_mode": {
    "name": "ipython",
    "version": 3
   },
   "file_extension": ".py",
   "mimetype": "text/x-python",
   "name": "python",
   "nbconvert_exporter": "python",
   "pygments_lexer": "ipython3",
   "version": "3.10.4"
  }
 },
 "nbformat": 4,
 "nbformat_minor": 5
}
